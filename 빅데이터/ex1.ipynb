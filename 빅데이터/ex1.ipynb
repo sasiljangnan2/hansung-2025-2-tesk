{
  "cells": [
    {
      "cell_type": "code",
      "execution_count": 6,
      "id": "ceacdf63-b69e-435b-808d-67ab6bfa627a",
      "metadata": {
        "colab": {
          "base_uri": "https://localhost:8080/"
        },
        "id": "ceacdf63-b69e-435b-808d-67ab6bfa627a",
        "outputId": "c44471a1-ab8b-447d-e3d0-1310cf280335"
      },
      "outputs": [
        {
          "name": "stdout",
          "output_type": "stream",
          "text": [
            "(4, 3)\n",
            "4\n",
            "3\n",
            "4\n",
            "[1 2 3]\n",
            "[ 1  4  7 10]\n"
          ]
        }
      ],
      "source": [
        "# 넘파이에서 행의 수 세기\n",
        "\n",
        "import numpy as np\n",
        "\n",
        "data = np.array([\n",
        "    [1,2,3],\n",
        "    [4,5,6],\n",
        "    [7,8,9],\n",
        "    [10,11,12]\n",
        "])\n",
        "\n",
        "print(data.shape)   # (4, 3)\n",
        "print(data.shape[0])  # 4 → 행(row) 개수\n",
        "print(data.shape[1])  # 3 → 열(column) 개수\n",
        "\n",
        "print(len(data))   # 4 → 행 개수\n",
        "print((data[0,:]))   # 4 → 행 개수\n",
        "print((data[:,0]))   # 4 → 행 개수"
      ]
    },
    {
      "cell_type": "code",
      "execution_count": 7,
      "id": "914eb099-8bd1-4276-bb69-c0c312f4b770",
      "metadata": {
        "colab": {
          "base_uri": "https://localhost:8080/"
        },
        "id": "914eb099-8bd1-4276-bb69-c0c312f4b770",
        "outputId": "03f04708-1206-40a1-c2c7-8280c59a021b"
      },
      "outputs": [
        {
          "name": "stdout",
          "output_type": "stream",
          "text": [
            "(3, 2)\n",
            "[['철수' '초']\n",
            " ['영희' '중']\n",
            " ['민수' '초']]\n",
            "(3, 2)\n"
          ]
        }
      ],
      "source": [
        "import numpy as np\n",
        "\n",
        "data = np.array([\n",
        "    ['철수','초'],\n",
        "    ['영희','중'],\n",
        "    ['민수','초']\n",
        "])\n",
        "print(data.shape)\n",
        "\n",
        "col = data[:,:]     # 1차원 배열, 넘파이는 기본적으로 차원을 낮춰서 1차원 배열로 반환, 인덱스는 0부터 시작\n",
        "print(col)\n",
        "print(col.shape)    # (3,) 1차원 배열\n"
      ]
    },
    {
      "cell_type": "code",
      "execution_count": 3,
      "id": "ea957995-f2f3-40e2-b4b3-360d6798e7c9",
      "metadata": {
        "colab": {
          "base_uri": "https://localhost:8080/"
        },
        "id": "ea957995-f2f3-40e2-b4b3-360d6798e7c9",
        "outputId": "2afd2848-1453-4452-8310-f165fb6fe599"
      },
      "outputs": [
        {
          "name": "stdout",
          "output_type": "stream",
          "text": [
            "[ True False  True]\n",
            "(3,)\n",
            "------------\n",
            "[[ True]\n",
            " [False]\n",
            " [ True]]\n",
            "(3, 1)\n",
            "------------\n",
            "[ True False  True]\n",
            "(3,)\n",
            "-----기타 등등 확인-------\n",
            "[[False]\n",
            " [ True]\n",
            " [False]]\n",
            "True\n",
            "True\n",
            "[ True]\n",
            "True\n"
          ]
        }
      ],
      "source": [
        "# 불리언 마스크(Boolean mask)로 행을 필터링하는 방법\n",
        "\n",
        "col = np.array(['초','중','초'])\n",
        "mask = (col == '초')    # 불리언 마스크(배열), 1차원 배열, ()는 없어도 되나 가독성을 위해 넣어주면 좋음\n",
        "print(mask)\n",
        "print(mask.shape)        # (3,) 1차원 배열\n",
        "\n",
        "print('------------')\n",
        "\n",
        "col = np.array([['초'],['중'],['초']])   # 2차원 배열(3행 1열)\n",
        "mask = (col == '초')    # (3,1) 2차원 배열\n",
        "print(mask)\n",
        "print(mask.shape)\n",
        "\n",
        "print('------------')\n",
        "\n",
        "col = np.array([['초'],['중'],['초']])\n",
        "mask = (col[:,0] == '초')   # (3,) 1차원 배열 , 넘파이에서는 2차원 배열에서 열을 뽑으면 1차원 배열이 됨\n",
        "print(mask)\n",
        "print(mask.shape)\n",
        "\n",
        "print('-----기타 등등 확인-------')\n",
        "\n",
        "col = np.array([[1],[2],[3]])\n",
        "print(col==2)\n",
        "print((col==2)[1,0])\n",
        "print((col[:,0]==2)[1])\n",
        "print((col==2)[1])\n",
        "\n",
        "col = np.array([1,2,3])\n",
        "print((col==2)[1])\n",
        "\n",
        "col = np.array([[1],[2],[3]])\n"
      ]
    },
    {
      "cell_type": "code",
      "execution_count": 10,
      "id": "cf4091d5-ea47-4be0-88d6-4a3ed0f653b2",
      "metadata": {
        "colab": {
          "base_uri": "https://localhost:8080/"
        },
        "id": "cf4091d5-ea47-4be0-88d6-4a3ed0f653b2",
        "outputId": "23359823-0cdb-4904-f34c-2b3f1e37b727"
      },
      "outputs": [
        {
          "name": "stdout",
          "output_type": "stream",
          "text": [
            "[[False  True False False False]\n",
            " [False  True False False False]\n",
            " [False False False False False]\n",
            " [False False False False False]\n",
            " [False  True False False False]\n",
            " [False False False False False]]\n",
            "[['초' '3']\n",
            " ['초' '3']\n",
            " ['중' '1']\n",
            " ['고' '2']\n",
            " ['초' '6']\n",
            " ['중' '2']]\n",
            "[[ True  True]\n",
            " [ True  True]\n",
            " [False False]\n",
            " [False False]\n",
            " [ True False]\n",
            " [False False]]\n"
          ]
        }
      ],
      "source": [
        "import numpy as np\n",
        "\n",
        "# 간단한 데이터 직접 입력\n",
        "data = np.array([\n",
        "    ['철수', '초', '3', '남', '135.2'],\n",
        "    ['영희', '초', '3', '여', '133.1'],\n",
        "    ['민수', '중', '1', '남', '150.5'],\n",
        "    ['지혜', '고', '2', '여', '160.2'],\n",
        "    ['동현', '초', '6', '남', '142.8'],\n",
        "    ['소라', '중', '2', '여', '155.4']\n",
        "])\n",
        "print(data=='초')\n",
        "\n",
        "print(data[:,1:3])\n",
        "print((data[:,1:3] == '초') | (data[:,1:3] == '3'))\n",
        "\n",
        "#파이썬의 일반 논리 연산자(and, or, not)\n",
        "#넘파이 배열(&, |, ~)\n"
      ]
    },
    {
      "cell_type": "code",
      "execution_count": null,
      "id": "b280345d-828f-42c0-9537-e948b845fc1b",
      "metadata": {
        "id": "b280345d-828f-42c0-9537-e948b845fc1b"
      },
      "outputs": [],
      "source": []
    },
    {
      "cell_type": "code",
      "execution_count": null,
      "id": "ca486fa6-f717-464d-9344-78f1b128ab54",
      "metadata": {
        "id": "ca486fa6-f717-464d-9344-78f1b128ab54"
      },
      "outputs": [],
      "source": []
    }
  ],
  "metadata": {
    "colab": {
      "provenance": []
    },
    "kernelspec": {
      "display_name": "base",
      "language": "python",
      "name": "python3"
    },
    "language_info": {
      "codemirror_mode": {
        "name": "ipython",
        "version": 3
      },
      "file_extension": ".py",
      "mimetype": "text/x-python",
      "name": "python",
      "nbconvert_exporter": "python",
      "pygments_lexer": "ipython3",
      "version": "3.13.5"
    }
  },
  "nbformat": 4,
  "nbformat_minor": 5
}
