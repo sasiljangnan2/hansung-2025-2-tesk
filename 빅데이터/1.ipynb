{
 "cells": [
  {
   "cell_type": "code",
   "execution_count": 1,
   "id": "114ae857-3fa7-480e-aa97-2957b3a52858",
   "metadata": {},
   "outputs": [],
   "source": [
    "import math as m\n",
    "def lenght(A, B): return m.sqrt((A[0] - B[0]) ** 2 + (A[1] - B[1]) ** 2) #두 점 사이의 거리 계산\n"
   ]
  },
  {
   "cell_type": "code",
   "execution_count": null,
   "id": "1effbf9f",
   "metadata": {},
   "outputs": [
    {
     "name": "stdout",
     "output_type": "stream",
     "text": [
      "A0 -> A -> B -> C : 0.04363987531912985\n",
      "A0 -> A -> C -> B : 0.052805073819902335\n",
      "A0 -> B -> A -> C : 0.04446155257887037\n",
      "A0 -> B -> C -> A : 0.04842314776846826\n",
      "A0 -> C -> A -> B : 0.04429739325971026\n",
      "A0 -> C -> B -> A : 0.03909378994853566\n",
      "최단거리는 A0 -> C -> B -> A 순으로 가면\n",
      "0.03909378994853566 입니다.\n"
     ]
    }
   ],
   "source": [
    "S = [[37.589, 127.019], \n",
    "     [37.602, 127.023], \n",
    "     [37.595, 127.012], \n",
    "     [37.580, 127.020]] #이차원 배열을 통해 값 저장 s[0] = A0, s[1] = A, s[2] = B, s[3] = C\n",
    "shortcut = 100 #임의의 큰 수로 초기화\n",
    "for i in range(3):\n",
    "     for j in range(3):\n",
    "           for k in range(3): #중첩 for문이 가능할 수 있는 모든 조합을 찾음\n",
    "              if i != j and j != k and i != k: #같은 지점을 반복하지 않음       \n",
    "               dis = lenght(S[0], S[i+1]) + lenght(S[i+1], S[j+1]) + lenght(S[j+1], S[k+1]) #함수를 통해 각 지점의 거리를 계산해서 더함\n",
    "               print(\"A0 ->\",chr(i+65), \"->\", chr(j+65), \"->\", chr(k+65), \":\", dis) #A=65, B=66, C=67\n",
    "               if dis < shortcut: #구한 거리가 최단거리라면\n",
    "                    shortcut = dis\n",
    "                    ii = i\n",
    "                    jj = j\n",
    "                    kk = k #최단거리와 그때의 루트 저장\n",
    "print (\"최단거리는 A0 ->\",chr(ii+65), \"->\", chr(jj+65), \"->\", chr(kk+65), \"순으로 가면\")\n",
    "print (shortcut , \"입니다.\")\n",
    "               \n",
    "    \n",
    "     \n",
    "    \n"
   ]
  }
 ],
 "metadata": {
  "kernelspec": {
   "display_name": ".venv",
   "language": "python",
   "name": "python3"
  },
  "language_info": {
   "codemirror_mode": {
    "name": "ipython",
    "version": 3
   },
   "file_extension": ".py",
   "mimetype": "text/x-python",
   "name": "python",
   "nbconvert_exporter": "python",
   "pygments_lexer": "ipython3",
   "version": "3.11.9"
  }
 },
 "nbformat": 4,
 "nbformat_minor": 5
}
