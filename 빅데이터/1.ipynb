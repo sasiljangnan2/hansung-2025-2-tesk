{
 "cells": [
  {
   "cell_type": "code",
   "execution_count": null,
   "id": "114ae857-3fa7-480e-aa97-2957b3a52858",
   "metadata": {},
   "outputs": [],
   "source": [
    "import numpy as np\n",
    "import math as m\n",
    "def lenght(A, B): return m.sqrt((A[0] - B[0]) ** 2 + (A[1] - B[1]) ** 2)\n"
   ]
  },
  {
   "cell_type": "code",
   "execution_count": 3,
   "id": "1effbf9f",
   "metadata": {},
   "outputs": [
    {
     "name": "stdout",
     "output_type": "stream",
     "text": [
      "[[ 37.589 127.019]\n",
      " [ 37.602 127.023]\n",
      " [ 37.595 127.012]\n",
      " [ 37.58  127.02 ]]\n",
      "[ 37.602 127.023]\n",
      "0.013601470508730909\n"
     ]
    }
   ],
   "source": [
    "S = [[37.589, 127.019], \n",
    "     [37.602, 127.023], \n",
    "     [37.595, 127.012], \n",
    "     [37.580, 127.020]]\n",
    "Sn = np.array(S)\n",
    "print(Sn)\n",
    "print(Sn[1])\n",
    "print(lenght(Sn[0], Sn[1]))\n"
   ]
  },
  {
   "cell_type": "code",
   "execution_count": null,
   "id": "d139f924-def0-4ac3-9de3-afdd5ef6e3a4",
   "metadata": {},
   "outputs": [],
   "source": []
  }
 ],
 "metadata": {
  "kernelspec": {
   "display_name": ".venv",
   "language": "python",
   "name": "python3"
  },
  "language_info": {
   "codemirror_mode": {
    "name": "ipython",
    "version": 3
   },
   "file_extension": ".py",
   "mimetype": "text/x-python",
   "name": "python",
   "nbconvert_exporter": "python",
   "pygments_lexer": "ipython3",
   "version": "3.11.9"
  }
 },
 "nbformat": 4,
 "nbformat_minor": 5
}
