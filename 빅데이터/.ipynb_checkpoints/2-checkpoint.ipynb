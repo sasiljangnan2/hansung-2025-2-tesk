{
 "cells": [
  {
   "cell_type": "code",
   "execution_count": 6,
   "id": "114ae857-3fa7-480e-aa97-2957b3a52858",
   "metadata": {},
   "outputs": [
    {
     "ename": "ModuleNotFoundError",
     "evalue": "No module named 'numpy'",
     "output_type": "error",
     "traceback": [
      "\u001b[31m---------------------------------------------------------------------------\u001b[39m",
      "\u001b[31mModuleNotFoundError\u001b[39m                       Traceback (most recent call last)",
      "\u001b[36mCell\u001b[39m\u001b[36m \u001b[39m\u001b[32mIn[6]\u001b[39m\u001b[32m, line 1\u001b[39m\n\u001b[32m----> \u001b[39m\u001b[32m1\u001b[39m \u001b[38;5;28;01mimport\u001b[39;00m\u001b[38;5;250m \u001b[39m\u001b[34;01mnumpy\u001b[39;00m\u001b[38;5;250m \u001b[39m\u001b[38;5;28;01mas\u001b[39;00m\u001b[38;5;250m \u001b[39m\u001b[34;01mnp\u001b[39;00m\n\u001b[32m      3\u001b[39m A = [\u001b[32m500\u001b[39m, \u001b[32m400\u001b[39m, \u001b[32m500\u001b[39m, \u001b[32m1000\u001b[39m, \n\u001b[32m      4\u001b[39m      \u001b[32m700\u001b[39m, \u001b[32m500\u001b[39m, \u001b[32m400\u001b[39m, \u001b[32m1200\u001b[39m,\n\u001b[32m      5\u001b[39m      \u001b[32m600\u001b[39m, \u001b[32m700\u001b[39m, \u001b[32m600\u001b[39m, \u001b[32m1300\u001b[39m] \u001b[38;5;66;03m# 각 마트당 데이터 초기화\u001b[39;00m\n\u001b[32m      7\u001b[39m B = [\u001b[32m2\u001b[39m, \u001b[32m4\u001b[39m, \u001b[32m4\u001b[39m, \u001b[32m2\u001b[39m,\n\u001b[32m      8\u001b[39m      \u001b[32m3\u001b[39m, \u001b[32m5\u001b[39m, \u001b[32m3\u001b[39m, \u001b[32m1\u001b[39m] \u001b[38;5;66;03m# 사야 할 상품 갯수 초기화\u001b[39;00m\n",
      "\u001b[31mModuleNotFoundError\u001b[39m: No module named 'numpy'"
     ]
    }
   ],
   "source": [
    "import numpy as np\n",
    "\n",
    "A = [500, 400, 500, 1000, \n",
    "     700, 500, 400, 1200,\n",
    "     600, 700, 600, 1300] # 각 마트당 데이터 초기화\n",
    "\n",
    "B = [2, 4, 4, 2,\n",
    "     3, 5, 3, 1] # 사야 할 상품 갯수 초기화"
   ]
  },
  {
   "cell_type": "code",
   "execution_count": null,
   "id": "1effbf9f",
   "metadata": {},
   "outputs": [
    {
     "ename": "NameError",
     "evalue": "name 'np' is not defined",
     "output_type": "error",
     "traceback": [
      "\u001b[31m---------------------------------------------------------------------------\u001b[39m",
      "\u001b[31mNameError\u001b[39m                                 Traceback (most recent call last)",
      "\u001b[36mCell\u001b[39m\u001b[36m \u001b[39m\u001b[32mIn[5]\u001b[39m\u001b[32m, line 4\u001b[39m\n\u001b[32m      1\u001b[39m A = [\u001b[32m500\u001b[39m, \u001b[32m400\u001b[39m, \u001b[32m500\u001b[39m, \u001b[32m1000\u001b[39m, \n\u001b[32m      2\u001b[39m      \u001b[32m700\u001b[39m, \u001b[32m500\u001b[39m, \u001b[32m400\u001b[39m, \u001b[32m1200\u001b[39m,\n\u001b[32m      3\u001b[39m      \u001b[32m600\u001b[39m, \u001b[32m700\u001b[39m, \u001b[32m600\u001b[39m, \u001b[32m1300\u001b[39m] \u001b[38;5;66;03m# 각 마트당 데이터 초기화\u001b[39;00m\n\u001b[32m----> \u001b[39m\u001b[32m4\u001b[39m An = \u001b[43mnp\u001b[49m.array(A).reshape(\u001b[32m3\u001b[39m,\u001b[32m4\u001b[39m) \u001b[38;5;66;03m#numpy를 통해 3행 4열로 변환\u001b[39;00m\n\u001b[32m      5\u001b[39m B = [\u001b[32m2\u001b[39m, \u001b[32m3\u001b[39m, \u001b[32m4\u001b[39m, \u001b[32m5\u001b[39m,\n\u001b[32m      6\u001b[39m      \u001b[32m4\u001b[39m, \u001b[32m3\u001b[39m, \u001b[32m2\u001b[39m, \u001b[32m1\u001b[39m] \u001b[38;5;66;03m# 사야 할 상품 갯수 초기화\u001b[39;00m\n\u001b[32m      7\u001b[39m Bn = np.array(B).reshape(\u001b[32m4\u001b[39m,\u001b[32m2\u001b[39m) \u001b[38;5;66;03m#numpy를 통해 4행 2열로 변환\u001b[39;00m\n",
      "\u001b[31mNameError\u001b[39m: name 'np' is not defined"
     ]
    }
   ],
   "source": [
    "An = np.array(A).reshape(3,4) #numpy를 통해 3행 4열로 변환\n",
    "Bn = np.array(B).reshape(2,4) #numpy를 통해 2행 4열로 변환\n",
    "Bn = Bn.T #전치행렬\n",
    "An = An @ Bn #행렬곱\n",
    "print(\"예나와 태양의 마트별 총 물건 구매 금액\")\n",
    "for i in range(3):\n",
    "    print(\"마트 %c:\" % chr(i+65), An[i]) #A=65, B=66, C=67 각 마트별 물건 비용 출력\n",
    "     \n",
    "\n"
   ]
  }
 ],
 "metadata": {
  "kernelspec": {
   "display_name": ".venv",
   "language": "python",
   "name": "python3"
  },
  "language_info": {
   "codemirror_mode": {
    "name": "ipython",
    "version": 3
   },
   "file_extension": ".py",
   "mimetype": "text/x-python",
   "name": "python",
   "nbconvert_exporter": "python",
   "pygments_lexer": "ipython3",
   "version": "3.11.9"
  }
 },
 "nbformat": 4,
 "nbformat_minor": 5
}
