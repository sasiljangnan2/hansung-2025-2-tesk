{
  "cells": [
    {
      "cell_type": "code",
      "execution_count": 4,
      "id": "9cc74b3a-bd75-4581-b34c-f17da18b8f11",
      "metadata": {
        "colab": {
          "base_uri": "https://localhost:8080/"
        },
        "id": "9cc74b3a-bd75-4581-b34c-f17da18b8f11",
        "outputId": "ca781666-34bc-4d0b-8d38-1d1687b01f8d"
      },
      "outputs": [
        {
          "output_type": "stream",
          "name": "stdout",
          "text": [
            "[ True  True False False  True False]\n",
            "초등학생만:\n",
            " [['철수' '초' '3' '남' '135.2']\n",
            " ['영희' '초' '3' '여' '133.1']\n",
            " ['동현' '초' '6' '남' '142.8']]\n",
            "\n",
            "초등 여학생만:\n",
            " [['영희' '초' '3' '여' '133.1']]\n",
            "\n",
            "--초등 남학생의 평균 키 구하기--\n",
            "\n",
            "[ True False False False  True False]\n",
            "[135.2 133.1 150.5 160.2 142.8 155.4]\n",
            "\n",
            "초등 남학생 평균 키: 139.0\n"
          ]
        }
      ],
      "source": [
        "import numpy as np\n",
        "\n",
        "# 간단한 데이터 직접 입력\n",
        "data = np.array([\n",
        "    ['철수', '초', '3', '남', '135.2'],\n",
        "    ['영희', '초', '3', '여', '133.1'],\n",
        "    ['민수', '중', '1', '남', '150.5'],\n",
        "    ['지혜', '고', '2', '여', '160.2'],\n",
        "    ['동현', '초', '6', '남', '142.8'],\n",
        "    ['소라', '중', '2', '여', '155.4']\n",
        "])\n",
        "\n",
        "# === 불리언 마스크 예시 ===\n",
        "\n",
        "# 1) 초등학생만 선택\n",
        "mask_elem = (data[:,1] == '초')     # ['초' '초' '중' '고' '초' '중'] 즉 (6,)의 불리언 마스크 배열 (6,)\n",
        "print(mask_elem)\n",
        "\n",
        "#넘파이는 배열 인덱싱 시, 정수 인덱스뿐만 아니라 불리언 배열도 허용(Boolean indexing).\n",
        "#지금의 경우 불리언 배열을 인덱스로 쓰면, True 위치의 행만 선택\n",
        "subset_elem = data[mask_elem]\n",
        "\n",
        "print(\"초등학생만:\\n\", subset_elem)\n",
        "\n",
        "#파이썬의 일반 논리 연산자(and, or, not)\n",
        "#넘파이 배열 → &, |, ~\n",
        "\n",
        "# 2) 초등 여학생만 선택\n",
        "mask_elem = (data[:,1]=='초') & (data[:,3]=='여')\n",
        "subset_elem = data[mask_elem]\n",
        "print(\"\\n초등 여학생만:\\n\", subset_elem)\n",
        "\n",
        "# 3) 초등 남학생의 평균 키 구하기\n",
        "print(\"\\n--초등 남학생의 평균 키 구하기--\\n\")\n",
        "\n",
        "mask_elem = (data[:,1]=='초') & (data[:,3]=='남')\n",
        "print(mask_elem)\n",
        "height = data[:,4].astype(float)      # 문자열 → float 변환, 즉 문자열 \"142.8\" → 실수 142.8 로 형 변환.\n",
        "print(height)\n",
        "mean_height = np.mean(height[mask_elem])\n",
        "print(\"\\n초등 남학생 평균 키:\", mean_height)\n"
      ]
    },
    {
      "cell_type": "code",
      "source": [
        "import pandas as pd\n",
        "import numpy as np\n",
        "\n",
        "df = pd.read_csv(\"학생건강검사.csv\", encoding=\"cp949\")\n",
        "\n",
        "# DataFrame을 바로 numpy 배열로 변환\n",
        "a = df.values        # 또는 df.to_numpy()\n",
        "\n",
        "b = df.to_numpy()    # df.values 또는 df.to_numpy()\n",
        "print(type(a))\n",
        "print(type(b))\n",
        "\n",
        "print(a[0])          # 0행 데이터 확인\n",
        "print(a[1])          # 1행 데이터 확인\n",
        "print(a[2])          # 2행 데이터 확인\n",
        "\n",
        "print(\"총 행의 수는\", len(a))\n",
        "print(\"shape:\", a.shape)   # (행, 열) 구조도 같이 확인 가능\n"
      ],
      "metadata": {
        "colab": {
          "base_uri": "https://localhost:8080/"
        },
        "id": "ob7QpQd8hBNm",
        "outputId": "82222d23-2038-4b3c-8e1f-f13a53aec583"
      },
      "id": "ob7QpQd8hBNm",
      "execution_count": 7,
      "outputs": [
        {
          "output_type": "stream",
          "name": "stdout",
          "text": [
            "<class 'numpy.ndarray'>\n",
            "<class 'numpy.ndarray'>\n",
            "[2016 '초' 1 '남' 131.6]\n",
            "[2016 '초' 1 '남' 123.3]\n",
            "[2016 '초' 1 '남' 123.8]\n",
            "총 행의 수는 82883\n",
            "shape: (82883, 5)\n"
          ]
        }
      ]
    },
    {
      "cell_type": "code",
      "execution_count": null,
      "id": "4adf7484-382a-4ea5-bd5f-19d4fb715712",
      "metadata": {
        "id": "4adf7484-382a-4ea5-bd5f-19d4fb715712"
      },
      "outputs": [],
      "source": [
        "#np.sum(a)\t총합\tnp.sum([1,2,3]) → 6\n",
        "#np.min(a)\t최솟값\tnp.min([1,2,3]) → 1\n",
        "#np.max(a)\t최댓값\tnp.max([1,2,3]) → 3\n",
        "#np.argmin(a)\t최솟값 위치 인덱스\tnp.argmin([5,1,9]) → 1\n",
        "#np.argmax(a)\t최댓값 위치 인덱스\tnp.argmax([5,1,9]) → 2"
      ]
    }
  ],
  "metadata": {
    "kernelspec": {
      "display_name": "Python [conda env:base] *",
      "language": "python",
      "name": "conda-base-py"
    },
    "language_info": {
      "codemirror_mode": {
        "name": "ipython",
        "version": 3
      },
      "file_extension": ".py",
      "mimetype": "text/x-python",
      "name": "python",
      "nbconvert_exporter": "python",
      "pygments_lexer": "ipython3",
      "version": "3.13.5"
    },
    "colab": {
      "provenance": []
    }
  },
  "nbformat": 4,
  "nbformat_minor": 5
}