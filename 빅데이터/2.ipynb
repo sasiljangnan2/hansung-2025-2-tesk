{
 "cells": [
  {
   "cell_type": "code",
   "execution_count": 1,
   "id": "114ae857-3fa7-480e-aa97-2957b3a52858",
   "metadata": {},
   "outputs": [],
   "source": [
    "import numpy as np\n",
    "\n",
    "A = [500, 400, 500, 1000, \n",
    "     700, 500, 400, 1200,\n",
    "     600, 700, 600, 1300] # 각 마트당 데이터 초기화\n",
    "\n",
    "B = [2, 4, 4, 2,\n",
    "     3, 5, 3, 1] # 사야 할 상품 갯수 초기화"
   ]
  },
  {
   "cell_type": "code",
   "execution_count": 2,
   "id": "1effbf9f",
   "metadata": {},
   "outputs": [
    {
     "name": "stdout",
     "output_type": "stream",
     "text": [
      "예나와 태양의 마트별 총 물건 구매 금액\n",
      "마트 A: [6600 6000]\n",
      "마트 B: [7400 7000]\n",
      "마트 C: [9000 8400]\n"
     ]
    }
   ],
   "source": [
    "An = np.array(A).reshape(3,4) #numpy를 통해 3행 4열로 변환\n",
    "Bn = np.array(B).reshape(2,4) #numpy를 통해 2행 4열로 변환\n",
    "Bn = Bn.T #전치행렬\n",
    "An = An @ Bn #행렬곱\n",
    "print(\"예나와 태양의 마트별 총 물건 구매 금액\")\n",
    "for i in range(3):\n",
    "    print(\"마트 %c:\" % chr(i+65), An[i]) #A=65, B=66, C=67 각 마트별 물건 비용 출력\n",
    "     \n",
    "\n"
   ]
  },
  {
   "cell_type": "code",
   "execution_count": null,
   "id": "89dc7183-937d-4673-85bf-35b8eefbe8c1",
   "metadata": {},
   "outputs": [],
   "source": []
  }
 ],
 "metadata": {
  "kernelspec": {
   "display_name": ".venv",
   "language": "python",
   "name": "python3"
  },
  "language_info": {
   "codemirror_mode": {
    "name": "ipython",
    "version": 3
   },
   "file_extension": ".py",
   "mimetype": "text/x-python",
   "name": "python",
   "nbconvert_exporter": "python",
   "pygments_lexer": "ipython3",
   "version": "3.11.9"
  }
 },
 "nbformat": 4,
 "nbformat_minor": 5
}
