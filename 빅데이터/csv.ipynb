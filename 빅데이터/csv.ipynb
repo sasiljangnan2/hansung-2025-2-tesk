{
 "cells": [
  {
   "cell_type": "code",
   "execution_count": 18,
   "id": "786fda3f",
   "metadata": {},
   "outputs": [
    {
     "name": "stdout",
     "output_type": "stream",
     "text": [
      "[2016, '초', 1, '남', 131.6]\n",
      "[2016, '초', 1, '남', 123.3]\n",
      "[2016, '초', 1, '남', 123.8]\n",
      "총 행의  수는 82883\n",
      "1 학년 남자 초등학생의 수는 2886\n",
      "2 학년 남자 초등학생의 수는 2875\n",
      "3 학년 남자 초등학생의 수는 2882\n",
      "4 학년 남자 초등학생의 수는 2876\n",
      "5 학년 남자 초등학생의 수는 2818\n",
      "6 학년 남자 초등학생의 수는 2962\n",
      "1 학년 남자 초등학생의 평균 키는 121.61129591129581\n",
      "2 학년 남자 초등학생의 평균 키는 127.87193043478263\n",
      "3 학년 남자 초등학생의 평균 키는 133.41852879944486\n",
      "4 학년 남자 초등학생의 평균 키는 139.24419332406134\n",
      "5 학년 남자 초등학생의 평균 키는 144.7207948899928\n",
      "6 학년 남자 초등학생의 평균 키는 151.87056043214014\n"
     ]
    }
   ],
   "source": [
    "import pandas as pd\n",
    "\n",
    "df = pd.read_csv(\"학생건강검사.csv\", encoding='cp949')\n",
    "a = df.values.tolist()\n",
    "print(a[0])\n",
    "print(a[1])\n",
    "print(a[2])\n",
    "\n",
    "print(\"총 행의  수는\", len(a))\n",
    "mancount=[0,0,0,0,0,0]\n",
    "mansum=[0,0,0,0,0,0]\n",
    "for i in range(len(a)):\n",
    "    for j in range(6):\n",
    "        if a[i][1] == '초' and a[i][3] == '남' and a[i][2] == j+1:\n",
    "            if j==0:\n",
    "                mansum[0]+=a[i][4]\n",
    "            elif j==1:\n",
    "                mansum[1]+=a[i][4]\n",
    "            elif j==2:\n",
    "                mansum[2]+=a[i][4]\n",
    "            elif j==3:\n",
    "                mansum[3]+=a[i][4]\n",
    "            elif j==4:\n",
    "                mansum[4]+=a[i][4]\n",
    "            elif j==5:\n",
    "                mansum[5]+=a[i][4]\n",
    "            mancount[j] += 1\n",
    "\n",
    "for i in range(6):\n",
    "   print(i + 1,\"학년 남자 초등학생의 수는\", mancount[i])\n",
    "for i in range(6):\n",
    "    print(i + 1,\"학년 남자 초등학생의 평균 키는\",mansum[i]/mancount[i])\n",
    "\n",
    "\n"
   ]
  },
  {
   "cell_type": "code",
   "execution_count": 20,
   "id": "1d9bbe7f",
   "metadata": {},
   "outputs": [
    {
     "name": "stdout",
     "output_type": "stream",
     "text": [
      "1 학년 여자 초등학생의 수는 2661\n",
      "2 학년 여자 초등학생의 수는 2703\n",
      "3 학년 여자 초등학생의 수는 2723\n",
      "4 학년 여자 초등학생의 수는 2635\n",
      "5 학년 여자 초등학생의 수는 2666\n",
      "6 학년 여자 초등학생의 수는 2655\n",
      "1 학년 여자 초등학생의 평균 키는 120.46523863209309\n",
      "2 학년 여자 초등학생의 평균 키는 126.43832778394376\n",
      "3 학년 여자 초등학생의 평균 키는 132.25611457950777\n",
      "4 학년 여자 초등학생의 평균 키는 138.7862618595826\n",
      "5 학년 여자 초등학생의 평균 키는 145.56001500375112\n",
      "6 학년 여자 초등학생의 평균 키는 152.16342749529198\n"
     ]
    }
   ],
   "source": [
    "womancount=[0,0,0,0,0,0]\n",
    "womonsum=[0,0,0,0,0,0]\n",
    "for i in range(len(a)):\n",
    "    for j in range(6):\n",
    "        if a[i][1] == '초' and a[i][3] == '여' and a[i][2] == j+1:\n",
    "            if j==0:\n",
    "                womonsum[0]+=a[i][4]\n",
    "            elif j==1:\n",
    "                womonsum[1]+=a[i][4]\n",
    "            elif j==2:\n",
    "                womonsum[2]+=a[i][4]\n",
    "            elif j==3:\n",
    "                womonsum[3]+=a[i][4]\n",
    "            elif j==4:\n",
    "                womonsum[4]+=a[i][4]\n",
    "            elif j==5:\n",
    "                womonsum[5]+=a[i][4]\n",
    "            womancount[j] += 1\n",
    "\n",
    "for i in range(6):\n",
    "   print(i + 1,\"학년 여자 초등학생의 수는\", womancount[i])\n",
    "for i in range(6):\n",
    "    print(i + 1,\"학년 여자 초등학생의 평균 키는\",womonsum[i]/womancount[i])"
   ]
  },
  {
   "cell_type": "code",
   "execution_count": null,
   "id": "3df251c9",
   "metadata": {},
   "outputs": [
    {
     "name": "stdout",
     "output_type": "stream",
     "text": [
      "1 학년 2 학년의 남자 초등학생 평균 키 차이는 6.260634523486814\n",
      "2 학년 3 학년의 남자 초등학생 평균 키 차이는 5.5465983646622306\n",
      "3 학년 4 학년의 남자 초등학생 평균 키 차이는 5.825664524616485\n",
      "4 학년 5 학년의 남자 초등학생 평균 키 차이는 5.476601565931446\n",
      "5 학년 6 학년의 남자 초등학생 평균 키 차이는 7.14976554214735\n",
      "1 학년 2 학년의 여자 초등학생 평균 키 차이는 5.973089151850672\n",
      "2 학년 3 학년의 여자 초등학생 평균 키 차이는 5.817786795564004\n",
      "3 학년 4 학년의 여자 초등학생 평균 키 차이는 6.530147280074829\n",
      "4 학년 5 학년의 여자 초등학생 평균 키 차이는 6.7737531441685235\n",
      "5 학년 6 학년의 여자 초등학생 평균 키 차이는 6.603412491540865\n",
      "다음의 값들을 분석해보면 5학년까지의 여자 초등학생의 평균 키가 남자 초등학생의 평균 키보다 크다. 하지만 6학년이 되면 남자 초등학생의 평균 키가 여자 초등학생의 평균 키보다 더 커진다. 남자 초등학생이 여자 초등학생보다 더 늦게 성장하기 때문인 것으로 보인다.\n"
     ]
    }
   ],
   "source": [
    "for i in range(5):\n",
    "    print(i + 1,\"학년\", i + 2,\"학년의 남자 초등학생 평균 키 차이는\",-(mansum[i]/mancount[i]-mansum[i+1]/mancount[i+1]))\n",
    "for i in range(5):\n",
    "    print(i + 1,\"학년\", i + 2,\"학년의 여자 초등학생 평균 키 차이는\",-(womonsum[i]/womancount[i]-womonsum[i+1]/womancount[i+1]))\n",
    "print(\"다음의 값들을 분석해보면 5학년까지의 여자 초등학생의 평균 키가 남자 초등학생의 평균 키보다 크다. \" \\\n",
    "\"하지만 6학년이 되면 남자 초등학생의 평균 키가 여자 초등학생의 평균 키보다 더 커진다. \" \\\n",
    "\"남자 초등학생이 여자 초등학생보다 더 늦게 성장하기 때문인 것으로 보인다..\")"
   ]
  }
 ],
 "metadata": {
  "kernelspec": {
   "display_name": "base",
   "language": "python",
   "name": "python3"
  },
  "language_info": {
   "codemirror_mode": {
    "name": "ipython",
    "version": 3
   },
   "file_extension": ".py",
   "mimetype": "text/x-python",
   "name": "python",
   "nbconvert_exporter": "python",
   "pygments_lexer": "ipython3",
   "version": "3.13.5"
  }
 },
 "nbformat": 4,
 "nbformat_minor": 5
}
