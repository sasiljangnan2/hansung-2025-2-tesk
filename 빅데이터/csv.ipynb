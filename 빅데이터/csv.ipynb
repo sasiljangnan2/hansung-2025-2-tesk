{
 "cells": [
  {
   "cell_type": "code",
   "execution_count": 5,
   "id": "786fda3f",
   "metadata": {},
   "outputs": [
    {
     "name": "stdout",
     "output_type": "stream",
     "text": [
      "[2016, '초', 1, '남', 131.6]\n",
      "[2016, '초', 1, '남', 123.3]\n",
      "[2016, '초', 1, '남', 123.8]\n",
      "총 행의  수는 82883\n",
      "초등학생의 총 인원수는 33342\n"
     ]
    }
   ],
   "source": [
    "import pandas as pd\n",
    "\n",
    "df = pd.read_csv(\"학생건강검사.csv\", encoding='cp949')\n",
    "a = df.values.tolist()\n",
    "print(a[0])\n",
    "print(a[1])\n",
    "print(a[2])\n",
    "\n",
    "print(\"총 행의  수는\", len(a))\n",
    "count=0\n",
    "for i in range(len(a)):\n",
    "    if a[i][1] == '초':\n",
    "        count+=1\n",
    "\n",
    "print(\"초등학생의 총 인원수는\", count)\n"
   ]
  }
 ],
 "metadata": {
  "kernelspec": {
   "display_name": "base",
   "language": "python",
   "name": "python3"
  },
  "language_info": {
   "codemirror_mode": {
    "name": "ipython",
    "version": 3
   },
   "file_extension": ".py",
   "mimetype": "text/x-python",
   "name": "python",
   "nbconvert_exporter": "python",
   "pygments_lexer": "ipython3",
   "version": "3.13.5"
  }
 },
 "nbformat": 4,
 "nbformat_minor": 5
}
